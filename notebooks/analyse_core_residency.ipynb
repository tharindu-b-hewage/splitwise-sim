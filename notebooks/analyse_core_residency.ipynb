{
 "cells": [
  {
   "metadata": {},
   "cell_type": "markdown",
   "source": "#### CPU core residency analysis during inferring LLM cluster",
   "id": "2fe2e45486b2dee0"
  },
  {
   "metadata": {
    "collapsed": true,
    "ExecuteTime": {
     "end_time": "2024-10-31T12:22:56.294019Z",
     "start_time": "2024-10-31T12:22:56.078695Z"
    }
   },
   "cell_type": "code",
   "source": [
    "import pandas as pd\n",
    "import matplotlib.pyplot as plt\n",
    "import numpy as np\n",
    "\n",
    "data_loc = '../results/0/splitwise_27_13/test_trace/40_0/bloom-176b/mixed_pool'\n",
    "\n",
    "df_raw = pd.read_csv(data_loc + '/cpu_usage/cpu_usage_0.csv')\n",
    "# replace all True to 1 and False to 0\n",
    "df = df_raw.drop(columns=['clock'])\n",
    "df = df.applymap(lambda x: True if isinstance(x, str) and x else False)\n",
    "df['clock'] = df_raw['clock']\n",
    "\n",
    "# Read the CSV file\n",
    "df_sim = pd.read_csv(data_loc + '/simulator.csv')\n",
    "\n",
    "# Filter the rows where the event is 'end'\n",
    "end_event = df_sim[df_sim['event'] == 'end']\n",
    "\n",
    "# Extract the time of the 'end' event\n",
    "duration = end_event['time'].values[0]\n",
    "\n",
    "# Create a complete range of clock values from 0 to duration\n",
    "clock_range = pd.DataFrame({'clock': np.arange(0, duration, step=0.01)})\n",
    "\n",
    "# Merge the clock range with the existing data\n",
    "df = pd.merge(clock_range, df, on='clock', how='left')\n",
    "\n",
    "# Fill missing values with 0 and forward fill the core values\n",
    "df.fillna(0, inplace=True)\n",
    "df.ffill(inplace=True)\n",
    "\n",
    "plt.figure(figsize=(10, 3))\n",
    "\n",
    "# Plot each core column as a step function\n",
    "for column in df.columns:\n",
    "    if column.startswith('core'):\n",
    "        plt.step(df['clock'], df[column], where='post', label=f'CPU {column} residency')\n",
    "\n",
    "plt.title('CPU core residency during inference')\n",
    "plt.xlabel('Clock (s)')\n",
    "plt.ylabel('Busy (1) or Idle (0)')\n",
    "plt.xlim(0, duration)  # Set x-axis limits\n",
    "plt.legend('')\n",
    "plt.show()"
   ],
   "id": "initial_id",
   "outputs": [
    {
     "data": {
      "text/plain": [
       "<Figure size 1000x300 with 1 Axes>"
      ],
      "image/png": "[encoded data removed]"
     },
     "metadata": {},
     "output_type": "display_data"
    }
   ],
   "execution_count": 9
  },
  {
   "metadata": {},
   "cell_type": "markdown",
   "source": "In the system model, each core maps to a physical core. This is because we disable hyper-threading since public clouds do have security concerns with H/T enabled, thus turning off H/T is favourable (need a proof). Then, we can use the core power model derived to estimate the power consumption of the CPU.",
   "id": "16d7fa594183c7ad"
  },
  {
   "metadata": {
    "ExecuteTime": {
     "end_time": "2024-10-31T12:26:45.887361Z",
     "start_time": "2024-10-31T12:26:45.721603Z"
    }
   },
   "cell_type": "code",
   "source": [
    "df_server = df_raw[df_raw['id'] == 88]\n",
    "print(df_server)\n",
    "df_server.plot(x='clock', y='c-state', figsize=(10, 3))"
   ],
   "id": "5c11fde820182ce3",
   "outputs": [
    {
     "name": "stdout",
     "output_type": "stream",
     "text": [
      "     c-state     clock  id       model     power\n",
      "88        C0  1.000000  88  bloom-176b  2.665096\n",
      "344       C6  2.332643  88         NaN  0.100000\n",
      "600       C6  3.000000  88         NaN  0.100000\n",
      "856       C6  3.536055  88         NaN  0.100000\n",
      "1112      C6  4.000000  88         NaN  0.100000\n",
      "1368      C6  4.536055  88         NaN  0.100000\n"
     ]
    },
    {
     "ename": "TypeError",
     "evalue": "no numeric data to plot",
     "output_type": "error",
     "traceback": [
      "\u001B[0;31m---------------------------------------------------------------------------\u001B[0m",
      "\u001B[0;31mTypeError\u001B[0m                                 Traceback (most recent call last)",
      "Cell \u001B[0;32mIn[14], line 3\u001B[0m\n\u001B[1;32m      1\u001B[0m df_server \u001B[38;5;241m=\u001B[39m df_raw[df_raw[\u001B[38;5;124m'\u001B[39m\u001B[38;5;124mid\u001B[39m\u001B[38;5;124m'\u001B[39m] \u001B[38;5;241m==\u001B[39m \u001B[38;5;241m88\u001B[39m]\n\u001B[1;32m      2\u001B[0m \u001B[38;5;28mprint\u001B[39m(df_server)\n\u001B[0;32m----> 3\u001B[0m \u001B[43mdf_server\u001B[49m\u001B[38;5;241;43m.\u001B[39;49m\u001B[43mplot\u001B[49m\u001B[43m(\u001B[49m\u001B[43mx\u001B[49m\u001B[38;5;241;43m=\u001B[39;49m\u001B[38;5;124;43m'\u001B[39;49m\u001B[38;5;124;43mclock\u001B[39;49m\u001B[38;5;124;43m'\u001B[39;49m\u001B[43m,\u001B[49m\u001B[43m \u001B[49m\u001B[43my\u001B[49m\u001B[38;5;241;43m=\u001B[39;49m\u001B[38;5;124;43m'\u001B[39;49m\u001B[38;5;124;43mc-state\u001B[39;49m\u001B[38;5;124;43m'\u001B[39;49m\u001B[43m,\u001B[49m\u001B[43m \u001B[49m\u001B[43mfigsize\u001B[49m\u001B[38;5;241;43m=\u001B[39;49m\u001B[43m(\u001B[49m\u001B[38;5;241;43m10\u001B[39;49m\u001B[43m,\u001B[49m\u001B[43m \u001B[49m\u001B[38;5;241;43m3\u001B[39;49m\u001B[43m)\u001B[49m\u001B[43m)\u001B[49m\n",
      "File \u001B[0;32m~/workspace/splitwise-sim/venv/lib/python3.10/site-packages/pandas/plotting/_core.py:975\u001B[0m, in \u001B[0;36mPlotAccessor.__call__\u001B[0;34m(self, *args, **kwargs)\u001B[0m\n\u001B[1;32m    972\u001B[0m             label_name \u001B[38;5;241m=\u001B[39m label_kw \u001B[38;5;129;01mor\u001B[39;00m data\u001B[38;5;241m.\u001B[39mcolumns\n\u001B[1;32m    973\u001B[0m             data\u001B[38;5;241m.\u001B[39mcolumns \u001B[38;5;241m=\u001B[39m label_name\n\u001B[0;32m--> 975\u001B[0m \u001B[38;5;28;01mreturn\u001B[39;00m \u001B[43mplot_backend\u001B[49m\u001B[38;5;241;43m.\u001B[39;49m\u001B[43mplot\u001B[49m\u001B[43m(\u001B[49m\u001B[43mdata\u001B[49m\u001B[43m,\u001B[49m\u001B[43m \u001B[49m\u001B[43mkind\u001B[49m\u001B[38;5;241;43m=\u001B[39;49m\u001B[43mkind\u001B[49m\u001B[43m,\u001B[49m\u001B[43m \u001B[49m\u001B[38;5;241;43m*\u001B[39;49m\u001B[38;5;241;43m*\u001B[39;49m\u001B[43mkwargs\u001B[49m\u001B[43m)\u001B[49m\n",
      "File \u001B[0;32m~/workspace/splitwise-sim/venv/lib/python3.10/site-packages/pandas/plotting/_matplotlib/__init__.py:71\u001B[0m, in \u001B[0;36mplot\u001B[0;34m(data, kind, **kwargs)\u001B[0m\n\u001B[1;32m     69\u001B[0m         kwargs[\u001B[38;5;124m\"\u001B[39m\u001B[38;5;124max\u001B[39m\u001B[38;5;124m\"\u001B[39m] \u001B[38;5;241m=\u001B[39m \u001B[38;5;28mgetattr\u001B[39m(ax, \u001B[38;5;124m\"\u001B[39m\u001B[38;5;124mleft_ax\u001B[39m\u001B[38;5;124m\"\u001B[39m, ax)\n\u001B[1;32m     70\u001B[0m plot_obj \u001B[38;5;241m=\u001B[39m PLOT_CLASSES[kind](data, \u001B[38;5;241m*\u001B[39m\u001B[38;5;241m*\u001B[39mkwargs)\n\u001B[0;32m---> 71\u001B[0m \u001B[43mplot_obj\u001B[49m\u001B[38;5;241;43m.\u001B[39;49m\u001B[43mgenerate\u001B[49m\u001B[43m(\u001B[49m\u001B[43m)\u001B[49m\n\u001B[1;32m     72\u001B[0m plot_obj\u001B[38;5;241m.\u001B[39mdraw()\n\u001B[1;32m     73\u001B[0m \u001B[38;5;28;01mreturn\u001B[39;00m plot_obj\u001B[38;5;241m.\u001B[39mresult\n",
      "File \u001B[0;32m~/workspace/splitwise-sim/venv/lib/python3.10/site-packages/pandas/plotting/_matplotlib/core.py:446\u001B[0m, in \u001B[0;36mMPLPlot.generate\u001B[0;34m(self)\u001B[0m\n\u001B[1;32m    444\u001B[0m \u001B[38;5;28;01mdef\u001B[39;00m \u001B[38;5;21mgenerate\u001B[39m(\u001B[38;5;28mself\u001B[39m) \u001B[38;5;241m-\u001B[39m\u001B[38;5;241m>\u001B[39m \u001B[38;5;28;01mNone\u001B[39;00m:\n\u001B[1;32m    445\u001B[0m     \u001B[38;5;28mself\u001B[39m\u001B[38;5;241m.\u001B[39m_args_adjust()\n\u001B[0;32m--> 446\u001B[0m     \u001B[38;5;28;43mself\u001B[39;49m\u001B[38;5;241;43m.\u001B[39;49m\u001B[43m_compute_plot_data\u001B[49m\u001B[43m(\u001B[49m\u001B[43m)\u001B[49m\n\u001B[1;32m    447\u001B[0m     \u001B[38;5;28mself\u001B[39m\u001B[38;5;241m.\u001B[39m_setup_subplots()\n\u001B[1;32m    448\u001B[0m     \u001B[38;5;28mself\u001B[39m\u001B[38;5;241m.\u001B[39m_make_plot()\n",
      "File \u001B[0;32m~/workspace/splitwise-sim/venv/lib/python3.10/site-packages/pandas/plotting/_matplotlib/core.py:632\u001B[0m, in \u001B[0;36mMPLPlot._compute_plot_data\u001B[0;34m(self)\u001B[0m\n\u001B[1;32m    630\u001B[0m \u001B[38;5;66;03m# no non-numeric frames or series allowed\u001B[39;00m\n\u001B[1;32m    631\u001B[0m \u001B[38;5;28;01mif\u001B[39;00m is_empty:\n\u001B[0;32m--> 632\u001B[0m     \u001B[38;5;28;01mraise\u001B[39;00m \u001B[38;5;167;01mTypeError\u001B[39;00m(\u001B[38;5;124m\"\u001B[39m\u001B[38;5;124mno numeric data to plot\u001B[39m\u001B[38;5;124m\"\u001B[39m)\n\u001B[1;32m    634\u001B[0m \u001B[38;5;28mself\u001B[39m\u001B[38;5;241m.\u001B[39mdata \u001B[38;5;241m=\u001B[39m numeric_data\u001B[38;5;241m.\u001B[39mapply(\u001B[38;5;28mself\u001B[39m\u001B[38;5;241m.\u001B[39m_convert_to_ndarray)\n",
      "\u001B[0;31mTypeError\u001B[0m: no numeric data to plot"
     ]
    }
   ],
   "execution_count": 14
  },
  {
   "metadata": {
    "ExecuteTime": {
     "end_time": "2024-10-31T12:22:56.461817Z",
     "start_time": "2024-10-31T12:22:56.432654Z"
    }
   },
   "cell_type": "code",
   "source": [
    "from core_power import get_c_state_from_idle_governor, get_core_power_for_model, calculate_core_power\n",
    "\n",
    "\n",
    "def generate_cpu_data(df_raw=None):\n",
    "    \"\"\"Generate CPU data for analysis.\n",
    "    Reads the raw event log of the CPU and generates a detailed event log with idle state and power consumption.\n",
    "    \"\"\"\n",
    "    # Transform from wide to long format to have one row per core per clock\n",
    "    df_long = df_raw.melt(id_vars=['clock'], var_name='core', value_name='model')\n",
    "    \n",
    "    # replace Nan with None\n",
    "    df_long['model'] = df_long['model'].apply(lambda x: None if pd.isna(x) else x)\n",
    "    \n",
    "    # Extract core ID from 'core' column\n",
    "    df_long['id'] = df_long['core'].str.replace('core_', '').astype(int)\n",
    "    \n",
    "    # drop column 'core'\n",
    "    df_long = df_long.drop(columns=['core'])\n",
    "    \n",
    "    # Sort the DataFrame by 'ID' and 'clock' to prepare for c-state calculation\n",
    "    df_long = df_long.sort_values(by=['id', 'clock']).reset_index(drop=True)\n",
    "    \n",
    "    # Initialize 'c-state' and 'power' columns\n",
    "    df_long['c-state'] = None\n",
    "    df_long['power'] = None\n",
    "    \n",
    "    # Group the DataFrame by 'ID' (core ID)\n",
    "    grouped = df_long.groupby('id')\n",
    "    \n",
    "    # Apply 'calculate_c_state' and 'calculate_power' functions\n",
    "    for core_id, group in grouped:\n",
    "        # Sort the group by 'clock' to ensure proper time sequence\n",
    "        group = group.sort_values(by='clock')\n",
    "        \n",
    "        # Iterate over each row in the group\n",
    "        for index, row in group.iterrows():\n",
    "            # Get past records up to the current time\n",
    "            past_records = group.iloc[:index+1]\n",
    "            \n",
    "            def get_idle_durations(past_records):\n",
    "                # Ensure DataFrame is sorted by 'clock' for chronological order\n",
    "                past_records = past_records.sort_values(by=\"clock\")\n",
    "            \n",
    "                idle_durations = []\n",
    "                idle_start = 0.0\n",
    "                \n",
    "                for _, row in past_records.iterrows():\n",
    "                    if pd.isna(row['model']):  # Core is idle\n",
    "                        if idle_start is None:  # Start of idle period\n",
    "                            idle_start = row['clock']\n",
    "                    else:  # Core is busy\n",
    "                        if idle_start is not None:  # End of idle period\n",
    "                            idle_durations.append(row['clock'] - idle_start)\n",
    "                            idle_start = None  # Reset idle start\n",
    "            \n",
    "                return idle_durations\n",
    "            \n",
    "            idle_durations = get_idle_durations(past_records=past_records)\n",
    "            \n",
    "            # Calculate c-state for the current row\n",
    "            c_state = get_c_state_from_idle_governor(last_8_idle_durations_s=idle_durations[:max(8, len(idle_durations))])\n",
    "            df_long.loc[row.name, 'c-state'] = c_state['state']\n",
    "            \n",
    "            # Calculate power for the current row\n",
    "            power = calculate_core_power(c_state=c_state, model=row['model'])\n",
    "            df_long.loc[row.name, 'power'] = power\n",
    "    \n",
    "    df_long.sort_values(by=['clock'], inplace=True)\n",
    "    \n",
    "    return df_long\n",
    "\n",
    "example = generate_cpu_data(df_raw=df_raw)\n",
    "example.to_csv('output/example.csv')\n",
    "print(example)"
   ],
   "id": "3d76f2b251be8e6c",
   "outputs": [
    {
     "ename": "ImportError",
     "evalue": "cannot import name 'calculate_core_power' from 'core_power' (/Users/tharindu/workspace/splitwise-sim/core_power.py)",
     "output_type": "error",
     "traceback": [
      "\u001B[0;31m---------------------------------------------------------------------------\u001B[0m",
      "\u001B[0;31mImportError\u001B[0m                               Traceback (most recent call last)",
      "Cell \u001B[0;32mIn[11], line 1\u001B[0m\n\u001B[0;32m----> 1\u001B[0m \u001B[38;5;28;01mfrom\u001B[39;00m \u001B[38;5;21;01mcore_power\u001B[39;00m \u001B[38;5;28;01mimport\u001B[39;00m calculate_c_state, get_core_power_for_model, calculate_core_power\n\u001B[1;32m      4\u001B[0m \u001B[38;5;28;01mdef\u001B[39;00m \u001B[38;5;21mgenerate_cpu_data\u001B[39m(df_raw\u001B[38;5;241m=\u001B[39m\u001B[38;5;28;01mNone\u001B[39;00m):\n\u001B[1;32m      5\u001B[0m \u001B[38;5;250m    \u001B[39m\u001B[38;5;124;03m\"\"\"Generate CPU data for analysis.\u001B[39;00m\n\u001B[1;32m      6\u001B[0m \u001B[38;5;124;03m    Reads the raw event log of the CPU and generates a detailed event log with idle state and power consumption.\u001B[39;00m\n\u001B[1;32m      7\u001B[0m \u001B[38;5;124;03m    \"\"\"\u001B[39;00m\n",
      "\u001B[0;31mImportError\u001B[0m: cannot import name 'calculate_core_power' from 'core_power' (/Users/tharindu/workspace/splitwise-sim/core_power.py)"
     ]
    }
   ],
   "execution_count": 11
  }
 ],
 "metadata": {
  "kernelspec": {
   "display_name": "Python 3",
   "language": "python",
   "name": "python3"
  },
  "language_info": {
   "codemirror_mode": {
    "name": "ipython",
    "version": 2
   },
   "file_extension": ".py",
   "mimetype": "text/x-python",
   "name": "python",
   "nbconvert_exporter": "python",
   "pygments_lexer": "ipython2",
   "version": "2.7.6"
  }
 },
 "nbformat": 4,
 "nbformat_minor": 5
}
