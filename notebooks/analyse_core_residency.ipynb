{
 "cells": [
  {
   "metadata": {},
   "cell_type": "markdown",
   "source": "#### CPU core residency analysis during inferring LLM cluster",
   "id": "2fe2e45486b2dee0"
  },
  {
   "metadata": {
    "collapsed": true,
    "ExecuteTime": {
     "end_time": "2024-10-29T11:39:14.141710Z",
     "start_time": "2024-10-29T11:39:13.871099Z"
    }
   },
   "cell_type": "code",
   "source": [
    "import pandas as pd\n",
    "import matplotlib.pyplot as plt\n",
    "import numpy as np\n",
    "\n",
    "data_loc = '../results/0/splitwise_27_13/test_trace/40_0/bloom-176b/mixed_pool'\n",
    "\n",
    "df_raw = pd.read_csv(data_loc + '/cpu_usage/cpu_usage_0.csv')\n",
    "# replace all True to 1 and False to 0\n",
    "df = df_raw.drop(columns=['clock'])\n",
    "df = df.applymap(lambda x: True if isinstance(x, str) and x else False)\n",
    "df['clock'] = df_raw['clock']\n",
    "\n",
    "# Read the CSV file\n",
    "df_sim = pd.read_csv(data_loc + '/simulator.csv')\n",
    "\n",
    "# Filter the rows where the event is 'end'\n",
    "end_event = df_sim[df_sim['event'] == 'end']\n",
    "\n",
    "# Extract the time of the 'end' event\n",
    "duration = end_event['time'].values[0]\n",
    "\n",
    "# Create a complete range of clock values from 0 to duration\n",
    "clock_range = pd.DataFrame({'clock': np.arange(0, duration, step=0.01)})\n",
    "\n",
    "# Merge the clock range with the existing data\n",
    "df = pd.merge(clock_range, df, on='clock', how='left')\n",
    "\n",
    "# Fill missing values with 0 and forward fill the core values\n",
    "df.fillna(0, inplace=True)\n",
    "df.ffill(inplace=True)\n",
    "\n",
    "plt.figure(figsize=(10, 3))\n",
    "\n",
    "# Plot each core column as a step function\n",
    "for column in df.columns:\n",
    "    if column.startswith('core'):\n",
    "        plt.step(df['clock'], df[column], where='post', label=f'CPU {column} residency')\n",
    "\n",
    "plt.title('CPU core residency during inference')\n",
    "plt.xlabel('Clock (s)')\n",
    "plt.ylabel('Busy (1) or Idle (0)')\n",
    "plt.xlim(0, duration)  # Set x-axis limits\n",
    "plt.legend('')\n",
    "plt.show()"
   ],
   "id": "initial_id",
   "outputs": [
    {
     "data": {
      "text/plain": [
       "<Figure size 1000x300 with 1 Axes>"
      ],
      "image/png": "[encoded data removed]"
     },
     "metadata": {},
     "output_type": "display_data"
    }
   ],
   "execution_count": 7
  },
  {
   "metadata": {},
   "cell_type": "markdown",
   "source": "In the system model, each core maps to a physical core. This is because we disable hyper-threading since public clouds do have security concerns with H/T enabled, thus turning off H/T is favourable (need a proof). Then, we can use the core power model derived to estimate the power consumption of the CPU.",
   "id": "16d7fa594183c7ad"
  },
  {
   "metadata": {
    "ExecuteTime": {
     "end_time": "2024-10-29T11:39:14.581299Z",
     "start_time": "2024-10-29T11:39:14.146444Z"
    }
   },
   "cell_type": "code",
   "source": [
    "from core_power import calculate_c_state, get_core_power_for_model, calculate_core_power\n",
    "\n",
    "\n",
    "def generate_cpu_data(df_raw=None):\n",
    "    \"\"\"Generate CPU data for analysis.\n",
    "    Reads the raw event log of the CPU and generates a detailed event log with idle state and power consumption.\n",
    "    \"\"\"\n",
    "    # Transform from wide to long format to have one row per core per clock\n",
    "    df_long = df_raw.melt(id_vars=['clock'], var_name='core', value_name='model')\n",
    "    \n",
    "    # replace Nan with None\n",
    "    df_long['model'] = df_long['model'].apply(lambda x: None if pd.isna(x) else x)\n",
    "    \n",
    "    # Extract core ID from 'core' column\n",
    "    df_long['id'] = df_long['core'].str.replace('core_', '').astype(int)\n",
    "    \n",
    "    # drop column 'core'\n",
    "    df_long = df_long.drop(columns=['core'])\n",
    "    \n",
    "    # Sort the DataFrame by 'ID' and 'clock' to prepare for c-state calculation\n",
    "    df_long = df_long.sort_values(by=['id', 'clock']).reset_index(drop=True)\n",
    "    \n",
    "    # Initialize 'c-state' and 'power' columns\n",
    "    df_long['c-state'] = None\n",
    "    df_long['power'] = None\n",
    "    \n",
    "    # Group the DataFrame by 'ID' (core ID)\n",
    "    grouped = df_long.groupby('id')\n",
    "    \n",
    "    # Apply 'calculate_c_state' and 'calculate_power' functions\n",
    "    for core_id, group in grouped:\n",
    "        # Sort the group by 'clock' to ensure proper time sequence\n",
    "        group = group.sort_values(by='clock')\n",
    "        \n",
    "        # Iterate over each row in the group\n",
    "        for index, row in group.iterrows():\n",
    "            # Get past records up to the current time\n",
    "            past_records = group.iloc[:index+1]\n",
    "            \n",
    "            def get_idle_durations(past_records):\n",
    "                # Ensure DataFrame is sorted by 'clock' for chronological order\n",
    "                past_records = past_records.sort_values(by=\"clock\")\n",
    "            \n",
    "                idle_durations = []\n",
    "                idle_start = 0.0\n",
    "                \n",
    "                for _, row in past_records.iterrows():\n",
    "                    if pd.isna(row['model']):  # Core is idle\n",
    "                        if idle_start is None:  # Start of idle period\n",
    "                            idle_start = row['clock']\n",
    "                    else:  # Core is busy\n",
    "                        if idle_start is not None:  # End of idle period\n",
    "                            idle_durations.append(row['clock'] - idle_start)\n",
    "                            idle_start = None  # Reset idle start\n",
    "            \n",
    "                return idle_durations\n",
    "            \n",
    "            idle_durations = get_idle_durations(past_records=past_records)\n",
    "            \n",
    "            # Calculate c-state for the current row\n",
    "            c_state = calculate_c_state(last_8_idle_durations_s=idle_durations[:max(8, len(idle_durations))])\n",
    "            df_long.loc[row.name, 'c-state'] = c_state['state']\n",
    "            \n",
    "            # Calculate power for the current row\n",
    "            power = calculate_core_power(c_state=c_state, model=row['model'])\n",
    "            df_long.loc[row.name, 'power'] = power\n",
    "    \n",
    "    df_long.sort_values(by=['clock'], inplace=True)\n",
    "    \n",
    "    return df_long\n",
    "\n",
    "example = generate_cpu_data(df_raw=df_raw)\n",
    "example.to_csv('output/example.csv')\n",
    "print(example)"
   ],
   "id": "3d76f2b251be8e6c",
   "outputs": [
    {
     "name": "stdout",
     "output_type": "stream",
     "text": [
      "bloom-176b\n",
      "bloom-176b\n",
      "bloom-176b\n",
      "         clock model   id c-state power\n",
      "0     1.000000  None    0      C0   4.0\n",
      "1404  1.000000  None  234      C0   4.0\n",
      "786   1.000000  None  131      C0   4.0\n",
      "252   1.000000  None   42      C0   4.0\n",
      "792   1.000000  None  132      C0   4.0\n",
      "...        ...   ...  ...     ...   ...\n",
      "845   4.536055  None  140      C0   4.0\n",
      "839   4.536055  None  139      C0   4.0\n",
      "833   4.536055  None  138      C0   4.0\n",
      "899   4.536055  None  149      C0   4.0\n",
      "1535  4.536055  None  255      C0   4.0\n",
      "\n",
      "[1536 rows x 5 columns]\n"
     ]
    }
   ],
   "execution_count": 8
  }
 ],
 "metadata": {
  "kernelspec": {
   "display_name": "Python 3",
   "language": "python",
   "name": "python3"
  },
  "language_info": {
   "codemirror_mode": {
    "name": "ipython",
    "version": 2
   },
   "file_extension": ".py",
   "mimetype": "text/x-python",
   "name": "python",
   "nbconvert_exporter": "python",
   "pygments_lexer": "ipython2",
   "version": "2.7.6"
  }
 },
 "nbformat": 4,
 "nbformat_minor": 5
}
